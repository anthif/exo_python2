{
 "cells": [
  {
   "cell_type": "code",
   "execution_count": null,
   "id": "8041085e",
   "metadata": {},
   "outputs": [],
   "source": [
    "EXO1\n",
    "\n",
    "Ecrire une fonction qui calcule l'indice de masse corporelle (IMC) d'un adulte et qui en donne\n",
    "l'interprétation (corpulence normale, surpoids...).\n",
    "Par exemple :\n",
    "- Votre taille en cm = 170\n",
    "- Votre masse en kg = 68.5\n",
    "- IMC = 23.70 kg/m²\n",
    "- Interprétation : corpulence normale"
   ]
  },
  {
   "cell_type": "code",
   "execution_count": 40,
   "id": "e899cff9",
   "metadata": {
    "scrolled": true
   },
   "outputs": [
    {
     "name": "stdout",
     "output_type": "stream",
     "text": [
      "votre poids en kg68.5\n",
      "votre taille en cm170\n",
      "imc= 0.0023702422145328718\n",
      "maigre\n"
     ]
    }
   ],
   "source": [
    "Masse = float(input(\"votre poids en kg\"))\n",
    "Taille = int(input(\"votre taille en cm\"))\n",
    "imc = float\n",
    "imc = Masse/(Taille**2)\n",
    "print (\"imc=\", imc)\n",
    "if imc<18:\n",
    "    print (\"maigre\")\n",
    "elif imc<25:\n",
    "    print (\"normal\")\n",
    "elif imc<30:\n",
    "    print (\"surpoids\")"
   ]
  },
  {
   "cell_type": "code",
   "execution_count": null,
   "id": "ae6ffebd",
   "metadata": {},
   "outputs": [],
   "source": [
    "EXO2\n",
    "\n",
    "Ecrire une fonction qui reçoit la note au bac et qui affiche la mention correspondante.\n",
    "Par exemple :\n",
    "- Note au bac (sur 20) : 13.5\n",
    "o Bac avec mention Assez Bien\n",
    "- Note au bac (sur 20) : 10.9\n",
    "o Bac avec mention Passable\n",
    "- Note au bac (sur 20) : 4\n",
    "o Recalé"
   ]
  },
  {
   "cell_type": "code",
   "execution_count": 63,
   "id": "d187c381",
   "metadata": {},
   "outputs": [
    {
     "name": "stdout",
     "output_type": "stream",
     "text": [
      "Note au bac (sur 20)4\n"
     ]
    }
   ],
   "source": [
    "Note_bac =(input(\"Note au bac (sur 20)\"))\n",
    "if Note == 13.5:\n",
    "    print(\"Bac avec mention Assez Bien\")\n",
    "elif Note == 10.9:\n",
    "    print(\"Bac avec mention Passable\")\n",
    "elif Note == 4:\n",
    "    print(\"Recalé\")\n"
   ]
  },
  {
   "cell_type": "code",
   "execution_count": null,
   "id": "2f92ddfb",
   "metadata": {},
   "outputs": [],
   "source": [
    "EXO3\n",
    "\n",
    "1) Ecrire une fonction qui retourne l'aire de la surface d'un disque de rayon R.\n",
    "Exemple :\n",
    "-print(airedisque(2.5))\n",
    "- 19.6349540849\n",
    "2) Ajouter un paramètre qui précise l'unité de mesure :\n",
    "Exemple :\n",
    "- print(airedisque2(4.2, 'cm'))\n",
    "- 55.4176944093 cm²"
   ]
  },
  {
   "cell_type": "code",
   "execution_count": 60,
   "id": "89e417d2",
   "metadata": {},
   "outputs": [
    {
     "name": "stdout",
     "output_type": "stream",
     "text": [
      "Donner la valeur de r2.5\n",
      "air disque  est s =  19.634954084936208\n"
     ]
    }
   ],
   "source": [
    "C\n",
    "r = float(input(\"Donner la valeur de r\"))\n",
    "s = pi*(r**2)\n",
    "print(\"air disque\",\" est s = \", s)"
   ]
  },
  {
   "cell_type": "code",
   "execution_count": 61,
   "id": "9272f4df",
   "metadata": {},
   "outputs": [
    {
     "name": "stdout",
     "output_type": "stream",
     "text": [
      "Donner la valeur de r4.2\n",
      "air disque  est s =  55.41769440932395 cm²\n"
     ]
    }
   ],
   "source": [
    "from math import pi\n",
    "r = float(input(\"Donner la valeur de r\"))\n",
    "s = pi*(r**2)\n",
    "print(\"air disque\",\" est s = \", s, \"cm²\")"
   ]
  },
  {
   "cell_type": "code",
   "execution_count": null,
   "id": "7982beec",
   "metadata": {},
   "outputs": [],
   "source": []
  }
 ],
 "metadata": {
  "kernelspec": {
   "display_name": "Python 3 (ipykernel)",
   "language": "python",
   "name": "python3"
  },
  "language_info": {
   "codemirror_mode": {
    "name": "ipython",
    "version": 3
   },
   "file_extension": ".py",
   "mimetype": "text/x-python",
   "name": "python",
   "nbconvert_exporter": "python",
   "pygments_lexer": "ipython3",
   "version": "3.11.5"
  }
 },
 "nbformat": 4,
 "nbformat_minor": 5
}
